{
  "nbformat": 4,
  "nbformat_minor": 0,
  "metadata": {
    "kernelspec": {
      "display_name": "Python 3",
      "language": "python",
      "name": "python3"
    },
    "language_info": {
      "codemirror_mode": {
        "name": "ipython",
        "version": 3
      },
      "file_extension": ".py",
      "mimetype": "text/x-python",
      "name": "python",
      "nbconvert_exporter": "python",
      "pygments_lexer": "ipython3",
      "version": "3.8.3"
    },
    "colab": {
      "name": "Untitled.ipynb",
      "provenance": [],
      "include_colab_link": true
    }
  },
  "cells": [
    {
      "cell_type": "markdown",
      "metadata": {
        "id": "view-in-github",
        "colab_type": "text"
      },
      "source": [
        "<a href=\"https://colab.research.google.com/github/ricardocenteno18/mayraextempo-/blob/main/ExtempoRicardoCenteno.ipynb\" target=\"_parent\"><img src=\"https://colab.research.google.com/assets/colab-badge.svg\" alt=\"Open In Colab\"/></a>"
      ]
    },
    {
      "cell_type": "markdown",
      "metadata": {
        "id": "5tKlKd5ZZUY9"
      },
      "source": [
        "## Ricardo Armando Centeno Santos \n",
        "Extemporaneo Unidad 1\n",
        "\n",
        "Preprocesamiento de datos"
      ]
    },
    {
      "cell_type": "markdown",
      "metadata": {
        "id": "e5maXYuRZUY9"
      },
      "source": [
        "## Introduction\n",
        "In the music industry is very important to know which is the song in the top of the billboard and also is very important to try to predict which is going to be the new single top in the world or maybe only in some plaraforms like Spotify. That is the reason that I am going to predict what kind of music is one of the most listended to. "
      ]
    },
    {
      "cell_type": "markdown",
      "metadata": {
        "id": "ptWnfKi_ZUY9"
      },
      "source": [
        "## Hypothesis \n",
        "My hypothesis is to show that a song can become one of the first in the popularity charts, making an analysis of the components of a song, such as the tempo, the energy it causes, if it is danceable, etc."
      ]
    },
    {
      "cell_type": "code",
      "metadata": {
        "id": "gHzXai9pZUY-"
      },
      "source": [
        "import numpy as np \n",
        "import pandas as pd\n",
        "import matplotlib.pyplot as plt\n",
        "import seaborn as sns\n",
        "from sklearn import preprocessing"
      ],
      "execution_count": 5,
      "outputs": []
    },
    {
      "cell_type": "markdown",
      "metadata": {
        "id": "P072PaeViuuh"
      },
      "source": [
        "# **Data Import**\n",
        "In this part we run all the libries and we read the dataset document; It can be a CSV, Excel or any kind of database. "
      ]
    },
    {
      "cell_type": "code",
      "metadata": {
        "colab": {
          "base_uri": "https://localhost:8080/",
          "height": 333
        },
        "id": "vmXZMyuSZUY_",
        "outputId": "d296db10-6547-4131-9bad-e4edc75e9575"
      },
      "source": [
        "#We read the document.\n",
        "data = pd.read_csv(\"song_data.csv\")\n",
        "data.head()"
      ],
      "execution_count": 6,
      "outputs": [
        {
          "output_type": "execute_result",
          "data": {
            "text/html": [
              "<div>\n",
              "<style scoped>\n",
              "    .dataframe tbody tr th:only-of-type {\n",
              "        vertical-align: middle;\n",
              "    }\n",
              "\n",
              "    .dataframe tbody tr th {\n",
              "        vertical-align: top;\n",
              "    }\n",
              "\n",
              "    .dataframe thead th {\n",
              "        text-align: right;\n",
              "    }\n",
              "</style>\n",
              "<table border=\"1\" class=\"dataframe\">\n",
              "  <thead>\n",
              "    <tr style=\"text-align: right;\">\n",
              "      <th></th>\n",
              "      <th>song_name</th>\n",
              "      <th>song_popularity</th>\n",
              "      <th>song_duration_ms</th>\n",
              "      <th>acousticness</th>\n",
              "      <th>danceability</th>\n",
              "      <th>energy</th>\n",
              "      <th>instrumentalness</th>\n",
              "      <th>key</th>\n",
              "      <th>liveness</th>\n",
              "      <th>loudness</th>\n",
              "      <th>audio_mode</th>\n",
              "      <th>speechiness</th>\n",
              "      <th>tempo</th>\n",
              "      <th>time_signature</th>\n",
              "      <th>audio_valence</th>\n",
              "    </tr>\n",
              "  </thead>\n",
              "  <tbody>\n",
              "    <tr>\n",
              "      <th>0</th>\n",
              "      <td>Boulevard of Broken Dreams</td>\n",
              "      <td>73</td>\n",
              "      <td>262333</td>\n",
              "      <td>0.005520</td>\n",
              "      <td>0.496</td>\n",
              "      <td>0.682</td>\n",
              "      <td>0.000029</td>\n",
              "      <td>8</td>\n",
              "      <td>0.0589</td>\n",
              "      <td>-4.095</td>\n",
              "      <td>1</td>\n",
              "      <td>0.0294</td>\n",
              "      <td>167.060</td>\n",
              "      <td>4</td>\n",
              "      <td>0.474</td>\n",
              "    </tr>\n",
              "    <tr>\n",
              "      <th>1</th>\n",
              "      <td>In The End</td>\n",
              "      <td>66</td>\n",
              "      <td>216933</td>\n",
              "      <td>0.010300</td>\n",
              "      <td>0.542</td>\n",
              "      <td>0.853</td>\n",
              "      <td>0.000000</td>\n",
              "      <td>3</td>\n",
              "      <td>0.1080</td>\n",
              "      <td>-6.407</td>\n",
              "      <td>0</td>\n",
              "      <td>0.0498</td>\n",
              "      <td>105.256</td>\n",
              "      <td>4</td>\n",
              "      <td>0.370</td>\n",
              "    </tr>\n",
              "    <tr>\n",
              "      <th>2</th>\n",
              "      <td>Seven Nation Army</td>\n",
              "      <td>76</td>\n",
              "      <td>231733</td>\n",
              "      <td>0.008170</td>\n",
              "      <td>0.737</td>\n",
              "      <td>0.463</td>\n",
              "      <td>0.447000</td>\n",
              "      <td>0</td>\n",
              "      <td>0.2550</td>\n",
              "      <td>-7.828</td>\n",
              "      <td>1</td>\n",
              "      <td>0.0792</td>\n",
              "      <td>123.881</td>\n",
              "      <td>4</td>\n",
              "      <td>0.324</td>\n",
              "    </tr>\n",
              "    <tr>\n",
              "      <th>3</th>\n",
              "      <td>By The Way</td>\n",
              "      <td>74</td>\n",
              "      <td>216933</td>\n",
              "      <td>0.026400</td>\n",
              "      <td>0.451</td>\n",
              "      <td>0.970</td>\n",
              "      <td>0.003550</td>\n",
              "      <td>0</td>\n",
              "      <td>0.1020</td>\n",
              "      <td>-4.938</td>\n",
              "      <td>1</td>\n",
              "      <td>0.1070</td>\n",
              "      <td>122.444</td>\n",
              "      <td>4</td>\n",
              "      <td>0.198</td>\n",
              "    </tr>\n",
              "    <tr>\n",
              "      <th>4</th>\n",
              "      <td>How You Remind Me</td>\n",
              "      <td>56</td>\n",
              "      <td>223826</td>\n",
              "      <td>0.000954</td>\n",
              "      <td>0.447</td>\n",
              "      <td>0.766</td>\n",
              "      <td>0.000000</td>\n",
              "      <td>10</td>\n",
              "      <td>0.1130</td>\n",
              "      <td>-5.065</td>\n",
              "      <td>1</td>\n",
              "      <td>0.0313</td>\n",
              "      <td>172.011</td>\n",
              "      <td>4</td>\n",
              "      <td>0.574</td>\n",
              "    </tr>\n",
              "  </tbody>\n",
              "</table>\n",
              "</div>"
            ],
            "text/plain": [
              "                    song_name  song_popularity  ...  time_signature  audio_valence\n",
              "0  Boulevard of Broken Dreams               73  ...               4          0.474\n",
              "1                  In The End               66  ...               4          0.370\n",
              "2           Seven Nation Army               76  ...               4          0.324\n",
              "3                  By The Way               74  ...               4          0.198\n",
              "4           How You Remind Me               56  ...               4          0.574\n",
              "\n",
              "[5 rows x 15 columns]"
            ]
          },
          "metadata": {
            "tags": []
          },
          "execution_count": 6
        }
      ]
    },
    {
      "cell_type": "code",
      "metadata": {
        "id": "5fWHj6esimkF"
      },
      "source": [
        ""
      ],
      "execution_count": 6,
      "outputs": []
    },
    {
      "cell_type": "markdown",
      "metadata": {
        "id": "-a68KGF0jhWv"
      },
      "source": [
        "# **Data Exploration**\n",
        "In this part we check the name of the variables, what is the datatype of the information, if there are null data."
      ]
    },
    {
      "cell_type": "code",
      "metadata": {
        "colab": {
          "base_uri": "https://localhost:8080/",
          "height": 304
        },
        "id": "h22waVhqZUZA",
        "outputId": "09f24589-b605-4edd-efa5-7c097d183b3a"
      },
      "source": [
        "#This is a little description of the data.\n",
        "data.describe()"
      ],
      "execution_count": 7,
      "outputs": [
        {
          "output_type": "execute_result",
          "data": {
            "text/html": [
              "<div>\n",
              "<style scoped>\n",
              "    .dataframe tbody tr th:only-of-type {\n",
              "        vertical-align: middle;\n",
              "    }\n",
              "\n",
              "    .dataframe tbody tr th {\n",
              "        vertical-align: top;\n",
              "    }\n",
              "\n",
              "    .dataframe thead th {\n",
              "        text-align: right;\n",
              "    }\n",
              "</style>\n",
              "<table border=\"1\" class=\"dataframe\">\n",
              "  <thead>\n",
              "    <tr style=\"text-align: right;\">\n",
              "      <th></th>\n",
              "      <th>song_popularity</th>\n",
              "      <th>song_duration_ms</th>\n",
              "      <th>acousticness</th>\n",
              "      <th>danceability</th>\n",
              "      <th>energy</th>\n",
              "      <th>instrumentalness</th>\n",
              "      <th>key</th>\n",
              "      <th>liveness</th>\n",
              "      <th>loudness</th>\n",
              "      <th>audio_mode</th>\n",
              "      <th>speechiness</th>\n",
              "      <th>tempo</th>\n",
              "      <th>time_signature</th>\n",
              "      <th>audio_valence</th>\n",
              "    </tr>\n",
              "  </thead>\n",
              "  <tbody>\n",
              "    <tr>\n",
              "      <th>count</th>\n",
              "      <td>18835.000000</td>\n",
              "      <td>1.883500e+04</td>\n",
              "      <td>18835.000000</td>\n",
              "      <td>18835.000000</td>\n",
              "      <td>18835.000000</td>\n",
              "      <td>18835.000000</td>\n",
              "      <td>18835.000000</td>\n",
              "      <td>18835.000000</td>\n",
              "      <td>18835.000000</td>\n",
              "      <td>18835.000000</td>\n",
              "      <td>18835.000000</td>\n",
              "      <td>18835.000000</td>\n",
              "      <td>18835.000000</td>\n",
              "      <td>18835.000000</td>\n",
              "    </tr>\n",
              "    <tr>\n",
              "      <th>mean</th>\n",
              "      <td>52.991877</td>\n",
              "      <td>2.182116e+05</td>\n",
              "      <td>0.258539</td>\n",
              "      <td>0.633348</td>\n",
              "      <td>0.644995</td>\n",
              "      <td>0.078008</td>\n",
              "      <td>5.289196</td>\n",
              "      <td>0.179650</td>\n",
              "      <td>-7.447435</td>\n",
              "      <td>0.628139</td>\n",
              "      <td>0.102099</td>\n",
              "      <td>121.073154</td>\n",
              "      <td>3.959119</td>\n",
              "      <td>0.527967</td>\n",
              "    </tr>\n",
              "    <tr>\n",
              "      <th>std</th>\n",
              "      <td>21.905654</td>\n",
              "      <td>5.988754e+04</td>\n",
              "      <td>0.288719</td>\n",
              "      <td>0.156723</td>\n",
              "      <td>0.214101</td>\n",
              "      <td>0.221591</td>\n",
              "      <td>3.614595</td>\n",
              "      <td>0.143984</td>\n",
              "      <td>3.827831</td>\n",
              "      <td>0.483314</td>\n",
              "      <td>0.104378</td>\n",
              "      <td>28.714456</td>\n",
              "      <td>0.298533</td>\n",
              "      <td>0.244632</td>\n",
              "    </tr>\n",
              "    <tr>\n",
              "      <th>min</th>\n",
              "      <td>0.000000</td>\n",
              "      <td>1.200000e+04</td>\n",
              "      <td>0.000001</td>\n",
              "      <td>0.000000</td>\n",
              "      <td>0.001070</td>\n",
              "      <td>0.000000</td>\n",
              "      <td>0.000000</td>\n",
              "      <td>0.010900</td>\n",
              "      <td>-38.768000</td>\n",
              "      <td>0.000000</td>\n",
              "      <td>0.000000</td>\n",
              "      <td>0.000000</td>\n",
              "      <td>0.000000</td>\n",
              "      <td>0.000000</td>\n",
              "    </tr>\n",
              "    <tr>\n",
              "      <th>25%</th>\n",
              "      <td>40.000000</td>\n",
              "      <td>1.843395e+05</td>\n",
              "      <td>0.024100</td>\n",
              "      <td>0.533000</td>\n",
              "      <td>0.510000</td>\n",
              "      <td>0.000000</td>\n",
              "      <td>2.000000</td>\n",
              "      <td>0.092900</td>\n",
              "      <td>-9.044000</td>\n",
              "      <td>0.000000</td>\n",
              "      <td>0.037800</td>\n",
              "      <td>98.368000</td>\n",
              "      <td>4.000000</td>\n",
              "      <td>0.335000</td>\n",
              "    </tr>\n",
              "    <tr>\n",
              "      <th>50%</th>\n",
              "      <td>56.000000</td>\n",
              "      <td>2.113060e+05</td>\n",
              "      <td>0.132000</td>\n",
              "      <td>0.645000</td>\n",
              "      <td>0.674000</td>\n",
              "      <td>0.000011</td>\n",
              "      <td>5.000000</td>\n",
              "      <td>0.122000</td>\n",
              "      <td>-6.555000</td>\n",
              "      <td>1.000000</td>\n",
              "      <td>0.055500</td>\n",
              "      <td>120.013000</td>\n",
              "      <td>4.000000</td>\n",
              "      <td>0.527000</td>\n",
              "    </tr>\n",
              "    <tr>\n",
              "      <th>75%</th>\n",
              "      <td>69.000000</td>\n",
              "      <td>2.428440e+05</td>\n",
              "      <td>0.424000</td>\n",
              "      <td>0.748000</td>\n",
              "      <td>0.815000</td>\n",
              "      <td>0.002570</td>\n",
              "      <td>8.000000</td>\n",
              "      <td>0.221000</td>\n",
              "      <td>-4.908000</td>\n",
              "      <td>1.000000</td>\n",
              "      <td>0.119000</td>\n",
              "      <td>139.931000</td>\n",
              "      <td>4.000000</td>\n",
              "      <td>0.725000</td>\n",
              "    </tr>\n",
              "    <tr>\n",
              "      <th>max</th>\n",
              "      <td>100.000000</td>\n",
              "      <td>1.799346e+06</td>\n",
              "      <td>0.996000</td>\n",
              "      <td>0.987000</td>\n",
              "      <td>0.999000</td>\n",
              "      <td>0.997000</td>\n",
              "      <td>11.000000</td>\n",
              "      <td>0.986000</td>\n",
              "      <td>1.585000</td>\n",
              "      <td>1.000000</td>\n",
              "      <td>0.941000</td>\n",
              "      <td>242.318000</td>\n",
              "      <td>5.000000</td>\n",
              "      <td>0.984000</td>\n",
              "    </tr>\n",
              "  </tbody>\n",
              "</table>\n",
              "</div>"
            ],
            "text/plain": [
              "       song_popularity  song_duration_ms  ...  time_signature  audio_valence\n",
              "count     18835.000000      1.883500e+04  ...    18835.000000   18835.000000\n",
              "mean         52.991877      2.182116e+05  ...        3.959119       0.527967\n",
              "std          21.905654      5.988754e+04  ...        0.298533       0.244632\n",
              "min           0.000000      1.200000e+04  ...        0.000000       0.000000\n",
              "25%          40.000000      1.843395e+05  ...        4.000000       0.335000\n",
              "50%          56.000000      2.113060e+05  ...        4.000000       0.527000\n",
              "75%          69.000000      2.428440e+05  ...        4.000000       0.725000\n",
              "max         100.000000      1.799346e+06  ...        5.000000       0.984000\n",
              "\n",
              "[8 rows x 14 columns]"
            ]
          },
          "metadata": {
            "tags": []
          },
          "execution_count": 7
        }
      ]
    },
    {
      "cell_type": "code",
      "metadata": {
        "colab": {
          "base_uri": "https://localhost:8080/"
        },
        "id": "wsLh7RKSZUZA",
        "outputId": "a5986e15-3be3-404f-b7bc-ed3f1679cd61"
      },
      "source": [
        "#This is the info. We can observe the datatype and the name of the columns.\n",
        "data.info()"
      ],
      "execution_count": 8,
      "outputs": [
        {
          "output_type": "stream",
          "text": [
            "<class 'pandas.core.frame.DataFrame'>\n",
            "RangeIndex: 18835 entries, 0 to 18834\n",
            "Data columns (total 15 columns):\n",
            " #   Column            Non-Null Count  Dtype  \n",
            "---  ------            --------------  -----  \n",
            " 0   song_name         18835 non-null  object \n",
            " 1   song_popularity   18835 non-null  int64  \n",
            " 2   song_duration_ms  18835 non-null  int64  \n",
            " 3   acousticness      18835 non-null  float64\n",
            " 4   danceability      18835 non-null  float64\n",
            " 5   energy            18835 non-null  float64\n",
            " 6   instrumentalness  18835 non-null  float64\n",
            " 7   key               18835 non-null  int64  \n",
            " 8   liveness          18835 non-null  float64\n",
            " 9   loudness          18835 non-null  float64\n",
            " 10  audio_mode        18835 non-null  int64  \n",
            " 11  speechiness       18835 non-null  float64\n",
            " 12  tempo             18835 non-null  float64\n",
            " 13  time_signature    18835 non-null  int64  \n",
            " 14  audio_valence     18835 non-null  float64\n",
            "dtypes: float64(9), int64(5), object(1)\n",
            "memory usage: 2.2+ MB\n"
          ],
          "name": "stdout"
        }
      ]
    },
    {
      "cell_type": "code",
      "metadata": {
        "colab": {
          "base_uri": "https://localhost:8080/"
        },
        "id": "E64zLkLqZUZA",
        "outputId": "5541eba9-cae2-41d4-dcab-495d1336897c"
      },
      "source": [
        "#This is the size of the dataset.\n",
        "data.shape"
      ],
      "execution_count": 9,
      "outputs": [
        {
          "output_type": "execute_result",
          "data": {
            "text/plain": [
              "(18835, 15)"
            ]
          },
          "metadata": {
            "tags": []
          },
          "execution_count": 9
        }
      ]
    },
    {
      "cell_type": "markdown",
      "metadata": {
        "id": "f6nm3-42kXkW"
      },
      "source": [
        "# **Data Cleaning**\n",
        "In this part, as the name says, we clean the database, if the document has duplicated information or maybe there are empty information, we can delete or edit the information and try to couple it to what we need.\n"
      ]
    },
    {
      "cell_type": "code",
      "metadata": {
        "id": "QBDG4MpaZUZA",
        "colab": {
          "base_uri": "https://localhost:8080/"
        },
        "outputId": "e0bcb91c-8d6d-441b-9b07-0f673e79837e"
      },
      "source": [
        "#We are cheking ifn there are null data.\n",
        "\n",
        "data.columns[data.isnull().any()]"
      ],
      "execution_count": 10,
      "outputs": [
        {
          "output_type": "execute_result",
          "data": {
            "text/plain": [
              "Index([], dtype='object')"
            ]
          },
          "metadata": {
            "tags": []
          },
          "execution_count": 10
        }
      ]
    },
    {
      "cell_type": "code",
      "metadata": {
        "colab": {
          "base_uri": "https://localhost:8080/"
        },
        "id": "MpOcGz5yijAj",
        "outputId": "0fa17724-f240-40cd-8072-5926706f994f"
      },
      "source": [
        "# It returns the number of missing values in the data set. \n",
        "data.isnull().sum()"
      ],
      "execution_count": 11,
      "outputs": [
        {
          "output_type": "execute_result",
          "data": {
            "text/plain": [
              "song_name           0\n",
              "song_popularity     0\n",
              "song_duration_ms    0\n",
              "acousticness        0\n",
              "danceability        0\n",
              "energy              0\n",
              "instrumentalness    0\n",
              "key                 0\n",
              "liveness            0\n",
              "loudness            0\n",
              "audio_mode          0\n",
              "speechiness         0\n",
              "tempo               0\n",
              "time_signature      0\n",
              "audio_valence       0\n",
              "dtype: int64"
            ]
          },
          "metadata": {
            "tags": []
          },
          "execution_count": 11
        }
      ]
    },
    {
      "cell_type": "markdown",
      "metadata": {
        "id": "J0bhrqbrllXu"
      },
      "source": [
        "# **Data Transformation**\n",
        "In this part, we apply the transfor operations, its means that we are goinf to modify the information and try to adapt it with the conclusions that we want. "
      ]
    },
    {
      "cell_type": "markdown",
      "metadata": {
        "id": "C4LXOtw2lfqf"
      },
      "source": [
        ""
      ]
    },
    {
      "cell_type": "code",
      "metadata": {
        "id": "wj_BTWU_mZDq"
      },
      "source": [
        "#There we are changing this information from int to a float.\n",
        "data.song_duration_ms = data.song_duration_ms.astype(float)\n",
        "data.time_signature = data.time_signature.astype(float)\n",
        "data.audio_mode = data.audio_mode.astype(float)\n"
      ],
      "execution_count": 12,
      "outputs": []
    },
    {
      "cell_type": "code",
      "metadata": {
        "colab": {
          "base_uri": "https://localhost:8080/",
          "height": 304
        },
        "id": "EtnTEA4upz9G",
        "outputId": "af01d6b6-12a3-4d40-cf4d-4bfa0577de95"
      },
      "source": [
        "data.describe()"
      ],
      "execution_count": 13,
      "outputs": [
        {
          "output_type": "execute_result",
          "data": {
            "text/html": [
              "<div>\n",
              "<style scoped>\n",
              "    .dataframe tbody tr th:only-of-type {\n",
              "        vertical-align: middle;\n",
              "    }\n",
              "\n",
              "    .dataframe tbody tr th {\n",
              "        vertical-align: top;\n",
              "    }\n",
              "\n",
              "    .dataframe thead th {\n",
              "        text-align: right;\n",
              "    }\n",
              "</style>\n",
              "<table border=\"1\" class=\"dataframe\">\n",
              "  <thead>\n",
              "    <tr style=\"text-align: right;\">\n",
              "      <th></th>\n",
              "      <th>song_popularity</th>\n",
              "      <th>song_duration_ms</th>\n",
              "      <th>acousticness</th>\n",
              "      <th>danceability</th>\n",
              "      <th>energy</th>\n",
              "      <th>instrumentalness</th>\n",
              "      <th>key</th>\n",
              "      <th>liveness</th>\n",
              "      <th>loudness</th>\n",
              "      <th>audio_mode</th>\n",
              "      <th>speechiness</th>\n",
              "      <th>tempo</th>\n",
              "      <th>time_signature</th>\n",
              "      <th>audio_valence</th>\n",
              "    </tr>\n",
              "  </thead>\n",
              "  <tbody>\n",
              "    <tr>\n",
              "      <th>count</th>\n",
              "      <td>18835.000000</td>\n",
              "      <td>1.883500e+04</td>\n",
              "      <td>18835.000000</td>\n",
              "      <td>18835.000000</td>\n",
              "      <td>18835.000000</td>\n",
              "      <td>18835.000000</td>\n",
              "      <td>18835.000000</td>\n",
              "      <td>18835.000000</td>\n",
              "      <td>18835.000000</td>\n",
              "      <td>18835.000000</td>\n",
              "      <td>18835.000000</td>\n",
              "      <td>18835.000000</td>\n",
              "      <td>18835.000000</td>\n",
              "      <td>18835.000000</td>\n",
              "    </tr>\n",
              "    <tr>\n",
              "      <th>mean</th>\n",
              "      <td>52.991877</td>\n",
              "      <td>2.182116e+05</td>\n",
              "      <td>0.258539</td>\n",
              "      <td>0.633348</td>\n",
              "      <td>0.644995</td>\n",
              "      <td>0.078008</td>\n",
              "      <td>5.289196</td>\n",
              "      <td>0.179650</td>\n",
              "      <td>-7.447435</td>\n",
              "      <td>0.628139</td>\n",
              "      <td>0.102099</td>\n",
              "      <td>121.073154</td>\n",
              "      <td>3.959119</td>\n",
              "      <td>0.527967</td>\n",
              "    </tr>\n",
              "    <tr>\n",
              "      <th>std</th>\n",
              "      <td>21.905654</td>\n",
              "      <td>5.988754e+04</td>\n",
              "      <td>0.288719</td>\n",
              "      <td>0.156723</td>\n",
              "      <td>0.214101</td>\n",
              "      <td>0.221591</td>\n",
              "      <td>3.614595</td>\n",
              "      <td>0.143984</td>\n",
              "      <td>3.827831</td>\n",
              "      <td>0.483314</td>\n",
              "      <td>0.104378</td>\n",
              "      <td>28.714456</td>\n",
              "      <td>0.298533</td>\n",
              "      <td>0.244632</td>\n",
              "    </tr>\n",
              "    <tr>\n",
              "      <th>min</th>\n",
              "      <td>0.000000</td>\n",
              "      <td>1.200000e+04</td>\n",
              "      <td>0.000001</td>\n",
              "      <td>0.000000</td>\n",
              "      <td>0.001070</td>\n",
              "      <td>0.000000</td>\n",
              "      <td>0.000000</td>\n",
              "      <td>0.010900</td>\n",
              "      <td>-38.768000</td>\n",
              "      <td>0.000000</td>\n",
              "      <td>0.000000</td>\n",
              "      <td>0.000000</td>\n",
              "      <td>0.000000</td>\n",
              "      <td>0.000000</td>\n",
              "    </tr>\n",
              "    <tr>\n",
              "      <th>25%</th>\n",
              "      <td>40.000000</td>\n",
              "      <td>1.843395e+05</td>\n",
              "      <td>0.024100</td>\n",
              "      <td>0.533000</td>\n",
              "      <td>0.510000</td>\n",
              "      <td>0.000000</td>\n",
              "      <td>2.000000</td>\n",
              "      <td>0.092900</td>\n",
              "      <td>-9.044000</td>\n",
              "      <td>0.000000</td>\n",
              "      <td>0.037800</td>\n",
              "      <td>98.368000</td>\n",
              "      <td>4.000000</td>\n",
              "      <td>0.335000</td>\n",
              "    </tr>\n",
              "    <tr>\n",
              "      <th>50%</th>\n",
              "      <td>56.000000</td>\n",
              "      <td>2.113060e+05</td>\n",
              "      <td>0.132000</td>\n",
              "      <td>0.645000</td>\n",
              "      <td>0.674000</td>\n",
              "      <td>0.000011</td>\n",
              "      <td>5.000000</td>\n",
              "      <td>0.122000</td>\n",
              "      <td>-6.555000</td>\n",
              "      <td>1.000000</td>\n",
              "      <td>0.055500</td>\n",
              "      <td>120.013000</td>\n",
              "      <td>4.000000</td>\n",
              "      <td>0.527000</td>\n",
              "    </tr>\n",
              "    <tr>\n",
              "      <th>75%</th>\n",
              "      <td>69.000000</td>\n",
              "      <td>2.428440e+05</td>\n",
              "      <td>0.424000</td>\n",
              "      <td>0.748000</td>\n",
              "      <td>0.815000</td>\n",
              "      <td>0.002570</td>\n",
              "      <td>8.000000</td>\n",
              "      <td>0.221000</td>\n",
              "      <td>-4.908000</td>\n",
              "      <td>1.000000</td>\n",
              "      <td>0.119000</td>\n",
              "      <td>139.931000</td>\n",
              "      <td>4.000000</td>\n",
              "      <td>0.725000</td>\n",
              "    </tr>\n",
              "    <tr>\n",
              "      <th>max</th>\n",
              "      <td>100.000000</td>\n",
              "      <td>1.799346e+06</td>\n",
              "      <td>0.996000</td>\n",
              "      <td>0.987000</td>\n",
              "      <td>0.999000</td>\n",
              "      <td>0.997000</td>\n",
              "      <td>11.000000</td>\n",
              "      <td>0.986000</td>\n",
              "      <td>1.585000</td>\n",
              "      <td>1.000000</td>\n",
              "      <td>0.941000</td>\n",
              "      <td>242.318000</td>\n",
              "      <td>5.000000</td>\n",
              "      <td>0.984000</td>\n",
              "    </tr>\n",
              "  </tbody>\n",
              "</table>\n",
              "</div>"
            ],
            "text/plain": [
              "       song_popularity  song_duration_ms  ...  time_signature  audio_valence\n",
              "count     18835.000000      1.883500e+04  ...    18835.000000   18835.000000\n",
              "mean         52.991877      2.182116e+05  ...        3.959119       0.527967\n",
              "std          21.905654      5.988754e+04  ...        0.298533       0.244632\n",
              "min           0.000000      1.200000e+04  ...        0.000000       0.000000\n",
              "25%          40.000000      1.843395e+05  ...        4.000000       0.335000\n",
              "50%          56.000000      2.113060e+05  ...        4.000000       0.527000\n",
              "75%          69.000000      2.428440e+05  ...        4.000000       0.725000\n",
              "max         100.000000      1.799346e+06  ...        5.000000       0.984000\n",
              "\n",
              "[8 rows x 14 columns]"
            ]
          },
          "metadata": {
            "tags": []
          },
          "execution_count": 13
        }
      ]
    },
    {
      "cell_type": "code",
      "metadata": {
        "colab": {
          "base_uri": "https://localhost:8080/"
        },
        "id": "68TdYpXlvudN",
        "outputId": "00f284e5-9d3b-4fe7-cb7d-ba78c3316699"
      },
      "source": [
        "#We create a new column in the dataset called \"popularity\". We apply some voleans numbers to identify it.\n",
        "data[\"popularity\"]= [ 1 if i>=66.5 else 0 for i in data.song_popularity ]\n",
        "data[\"popularity\"].value_counts()"
      ],
      "execution_count": 14,
      "outputs": [
        {
          "output_type": "execute_result",
          "data": {
            "text/plain": [
              "0    13386\n",
              "1     5449\n",
              "Name: popularity, dtype: int64"
            ]
          },
          "metadata": {
            "tags": []
          },
          "execution_count": 14
        }
      ]
    },
    {
      "cell_type": "code",
      "metadata": {
        "id": "fFj2Y-D2v322"
      },
      "source": [
        ""
      ],
      "execution_count": 14,
      "outputs": []
    },
    {
      "cell_type": "markdown",
      "metadata": {
        "id": "YuMvVuGExmGM"
      },
      "source": [
        "## **Context**\n",
        "I create a new column in the dataset with the name \"popularity\". I use the mean data (66.5). In simple words, I made a condition if the song is equal to 66.5 or bigger than 66.5, it is popular and we can see like a 1; on the contrary, if the song has a mean smaller tan 66.5, it is going to have a 0."
      ]
    },
    {
      "cell_type": "code",
      "metadata": {
        "colab": {
          "base_uri": "https://localhost:8080/",
          "height": 304
        },
        "id": "HercafQVyW0U",
        "outputId": "bb1cf457-4782-461c-d04b-23f6e307245e"
      },
      "source": [
        "#popular songs data\n",
        "a=data[data[\"popularity\"]==1]\n",
        "a.describe()"
      ],
      "execution_count": 15,
      "outputs": [
        {
          "output_type": "execute_result",
          "data": {
            "text/html": [
              "<div>\n",
              "<style scoped>\n",
              "    .dataframe tbody tr th:only-of-type {\n",
              "        vertical-align: middle;\n",
              "    }\n",
              "\n",
              "    .dataframe tbody tr th {\n",
              "        vertical-align: top;\n",
              "    }\n",
              "\n",
              "    .dataframe thead th {\n",
              "        text-align: right;\n",
              "    }\n",
              "</style>\n",
              "<table border=\"1\" class=\"dataframe\">\n",
              "  <thead>\n",
              "    <tr style=\"text-align: right;\">\n",
              "      <th></th>\n",
              "      <th>song_popularity</th>\n",
              "      <th>song_duration_ms</th>\n",
              "      <th>acousticness</th>\n",
              "      <th>danceability</th>\n",
              "      <th>energy</th>\n",
              "      <th>instrumentalness</th>\n",
              "      <th>key</th>\n",
              "      <th>liveness</th>\n",
              "      <th>loudness</th>\n",
              "      <th>audio_mode</th>\n",
              "      <th>speechiness</th>\n",
              "      <th>tempo</th>\n",
              "      <th>time_signature</th>\n",
              "      <th>audio_valence</th>\n",
              "      <th>popularity</th>\n",
              "    </tr>\n",
              "  </thead>\n",
              "  <tbody>\n",
              "    <tr>\n",
              "      <th>count</th>\n",
              "      <td>5449.000000</td>\n",
              "      <td>5449.000000</td>\n",
              "      <td>5449.000000</td>\n",
              "      <td>5449.000000</td>\n",
              "      <td>5449.000000</td>\n",
              "      <td>5449.000000</td>\n",
              "      <td>5449.00000</td>\n",
              "      <td>5449.000000</td>\n",
              "      <td>5449.000000</td>\n",
              "      <td>5449.000000</td>\n",
              "      <td>5449.000000</td>\n",
              "      <td>5449.000000</td>\n",
              "      <td>5449.000000</td>\n",
              "      <td>5449.000000</td>\n",
              "      <td>5449.0</td>\n",
              "    </tr>\n",
              "    <tr>\n",
              "      <th>mean</th>\n",
              "      <td>76.992292</td>\n",
              "      <td>218539.555515</td>\n",
              "      <td>0.210354</td>\n",
              "      <td>0.659758</td>\n",
              "      <td>0.658601</td>\n",
              "      <td>0.022390</td>\n",
              "      <td>5.11782</td>\n",
              "      <td>0.174400</td>\n",
              "      <td>-6.624852</td>\n",
              "      <td>0.618829</td>\n",
              "      <td>0.106247</td>\n",
              "      <td>120.753878</td>\n",
              "      <td>3.974307</td>\n",
              "      <td>0.520436</td>\n",
              "      <td>1.0</td>\n",
              "    </tr>\n",
              "    <tr>\n",
              "      <th>std</th>\n",
              "      <td>8.068717</td>\n",
              "      <td>48620.048311</td>\n",
              "      <td>0.246079</td>\n",
              "      <td>0.147652</td>\n",
              "      <td>0.187495</td>\n",
              "      <td>0.115572</td>\n",
              "      <td>3.65752</td>\n",
              "      <td>0.137557</td>\n",
              "      <td>3.139341</td>\n",
              "      <td>0.485719</td>\n",
              "      <td>0.102181</td>\n",
              "      <td>27.737971</td>\n",
              "      <td>0.255771</td>\n",
              "      <td>0.230911</td>\n",
              "      <td>0.0</td>\n",
              "    </tr>\n",
              "    <tr>\n",
              "      <th>min</th>\n",
              "      <td>67.000000</td>\n",
              "      <td>67000.000000</td>\n",
              "      <td>0.000009</td>\n",
              "      <td>0.072200</td>\n",
              "      <td>0.002890</td>\n",
              "      <td>0.000000</td>\n",
              "      <td>0.00000</td>\n",
              "      <td>0.021500</td>\n",
              "      <td>-34.255000</td>\n",
              "      <td>0.000000</td>\n",
              "      <td>0.022400</td>\n",
              "      <td>57.178000</td>\n",
              "      <td>1.000000</td>\n",
              "      <td>0.035200</td>\n",
              "      <td>1.0</td>\n",
              "    </tr>\n",
              "    <tr>\n",
              "      <th>25%</th>\n",
              "      <td>71.000000</td>\n",
              "      <td>190185.000000</td>\n",
              "      <td>0.026300</td>\n",
              "      <td>0.562000</td>\n",
              "      <td>0.541000</td>\n",
              "      <td>0.000000</td>\n",
              "      <td>1.00000</td>\n",
              "      <td>0.092000</td>\n",
              "      <td>-7.906000</td>\n",
              "      <td>0.000000</td>\n",
              "      <td>0.039100</td>\n",
              "      <td>98.883000</td>\n",
              "      <td>4.000000</td>\n",
              "      <td>0.336000</td>\n",
              "      <td>1.0</td>\n",
              "    </tr>\n",
              "    <tr>\n",
              "      <th>50%</th>\n",
              "      <td>75.000000</td>\n",
              "      <td>212429.000000</td>\n",
              "      <td>0.106000</td>\n",
              "      <td>0.668000</td>\n",
              "      <td>0.680000</td>\n",
              "      <td>0.000000</td>\n",
              "      <td>5.00000</td>\n",
              "      <td>0.121000</td>\n",
              "      <td>-5.985000</td>\n",
              "      <td>1.000000</td>\n",
              "      <td>0.059100</td>\n",
              "      <td>119.886000</td>\n",
              "      <td>4.000000</td>\n",
              "      <td>0.511000</td>\n",
              "      <td>1.0</td>\n",
              "    </tr>\n",
              "    <tr>\n",
              "      <th>75%</th>\n",
              "      <td>82.000000</td>\n",
              "      <td>240533.000000</td>\n",
              "      <td>0.300000</td>\n",
              "      <td>0.765000</td>\n",
              "      <td>0.802000</td>\n",
              "      <td>0.000118</td>\n",
              "      <td>8.00000</td>\n",
              "      <td>0.203000</td>\n",
              "      <td>-4.626000</td>\n",
              "      <td>1.000000</td>\n",
              "      <td>0.131000</td>\n",
              "      <td>139.910000</td>\n",
              "      <td>4.000000</td>\n",
              "      <td>0.701000</td>\n",
              "      <td>1.0</td>\n",
              "    </tr>\n",
              "    <tr>\n",
              "      <th>max</th>\n",
              "      <td>100.000000</td>\n",
              "      <td>547733.000000</td>\n",
              "      <td>0.996000</td>\n",
              "      <td>0.978000</td>\n",
              "      <td>0.997000</td>\n",
              "      <td>0.968000</td>\n",
              "      <td>11.00000</td>\n",
              "      <td>0.978000</td>\n",
              "      <td>-0.739000</td>\n",
              "      <td>1.000000</td>\n",
              "      <td>0.733000</td>\n",
              "      <td>212.058000</td>\n",
              "      <td>5.000000</td>\n",
              "      <td>0.980000</td>\n",
              "      <td>1.0</td>\n",
              "    </tr>\n",
              "  </tbody>\n",
              "</table>\n",
              "</div>"
            ],
            "text/plain": [
              "       song_popularity  song_duration_ms  ...  audio_valence  popularity\n",
              "count      5449.000000       5449.000000  ...    5449.000000      5449.0\n",
              "mean         76.992292     218539.555515  ...       0.520436         1.0\n",
              "std           8.068717      48620.048311  ...       0.230911         0.0\n",
              "min          67.000000      67000.000000  ...       0.035200         1.0\n",
              "25%          71.000000     190185.000000  ...       0.336000         1.0\n",
              "50%          75.000000     212429.000000  ...       0.511000         1.0\n",
              "75%          82.000000     240533.000000  ...       0.701000         1.0\n",
              "max         100.000000     547733.000000  ...       0.980000         1.0\n",
              "\n",
              "[8 rows x 15 columns]"
            ]
          },
          "metadata": {
            "tags": []
          },
          "execution_count": 15
        }
      ]
    },
    {
      "cell_type": "code",
      "metadata": {
        "colab": {
          "base_uri": "https://localhost:8080/",
          "height": 511
        },
        "id": "pp2eD4duynHm",
        "outputId": "2efbc3aa-cfc4-4cd1-e8cc-66c7e260629f"
      },
      "source": [
        "data.corr()"
      ],
      "execution_count": 16,
      "outputs": [
        {
          "output_type": "execute_result",
          "data": {
            "text/html": [
              "<div>\n",
              "<style scoped>\n",
              "    .dataframe tbody tr th:only-of-type {\n",
              "        vertical-align: middle;\n",
              "    }\n",
              "\n",
              "    .dataframe tbody tr th {\n",
              "        vertical-align: top;\n",
              "    }\n",
              "\n",
              "    .dataframe thead th {\n",
              "        text-align: right;\n",
              "    }\n",
              "</style>\n",
              "<table border=\"1\" class=\"dataframe\">\n",
              "  <thead>\n",
              "    <tr style=\"text-align: right;\">\n",
              "      <th></th>\n",
              "      <th>song_popularity</th>\n",
              "      <th>song_duration_ms</th>\n",
              "      <th>acousticness</th>\n",
              "      <th>danceability</th>\n",
              "      <th>energy</th>\n",
              "      <th>instrumentalness</th>\n",
              "      <th>key</th>\n",
              "      <th>liveness</th>\n",
              "      <th>loudness</th>\n",
              "      <th>audio_mode</th>\n",
              "      <th>speechiness</th>\n",
              "      <th>tempo</th>\n",
              "      <th>time_signature</th>\n",
              "      <th>audio_valence</th>\n",
              "      <th>popularity</th>\n",
              "    </tr>\n",
              "  </thead>\n",
              "  <tbody>\n",
              "    <tr>\n",
              "      <th>song_popularity</th>\n",
              "      <td>1.000000</td>\n",
              "      <td>-0.018899</td>\n",
              "      <td>-0.065181</td>\n",
              "      <td>0.104290</td>\n",
              "      <td>0.001365</td>\n",
              "      <td>-0.130907</td>\n",
              "      <td>-0.013160</td>\n",
              "      <td>-0.038937</td>\n",
              "      <td>0.099442</td>\n",
              "      <td>-0.004969</td>\n",
              "      <td>0.021479</td>\n",
              "      <td>-0.022672</td>\n",
              "      <td>0.034983</td>\n",
              "      <td>-0.052895</td>\n",
              "      <td>0.699048</td>\n",
              "    </tr>\n",
              "    <tr>\n",
              "      <th>song_duration_ms</th>\n",
              "      <td>-0.018899</td>\n",
              "      <td>1.000000</td>\n",
              "      <td>-0.097882</td>\n",
              "      <td>-0.104985</td>\n",
              "      <td>0.092688</td>\n",
              "      <td>-0.015188</td>\n",
              "      <td>-0.004615</td>\n",
              "      <td>0.016086</td>\n",
              "      <td>0.016469</td>\n",
              "      <td>-0.026328</td>\n",
              "      <td>-0.083447</td>\n",
              "      <td>0.012791</td>\n",
              "      <td>0.000264</td>\n",
              "      <td>-0.063421</td>\n",
              "      <td>0.003494</td>\n",
              "    </tr>\n",
              "    <tr>\n",
              "      <th>acousticness</th>\n",
              "      <td>-0.065181</td>\n",
              "      <td>-0.097882</td>\n",
              "      <td>1.000000</td>\n",
              "      <td>-0.182500</td>\n",
              "      <td>-0.662639</td>\n",
              "      <td>0.173098</td>\n",
              "      <td>-0.002025</td>\n",
              "      <td>-0.082537</td>\n",
              "      <td>-0.557744</td>\n",
              "      <td>0.064100</td>\n",
              "      <td>-0.093574</td>\n",
              "      <td>-0.136421</td>\n",
              "      <td>-0.157177</td>\n",
              "      <td>-0.121670</td>\n",
              "      <td>-0.106483</td>\n",
              "    </tr>\n",
              "    <tr>\n",
              "      <th>danceability</th>\n",
              "      <td>0.104290</td>\n",
              "      <td>-0.104985</td>\n",
              "      <td>-0.182500</td>\n",
              "      <td>1.000000</td>\n",
              "      <td>0.044373</td>\n",
              "      <td>-0.130483</td>\n",
              "      <td>0.007723</td>\n",
              "      <td>-0.090694</td>\n",
              "      <td>0.177639</td>\n",
              "      <td>-0.106539</td>\n",
              "      <td>0.213728</td>\n",
              "      <td>-0.121286</td>\n",
              "      <td>0.136391</td>\n",
              "      <td>0.332014</td>\n",
              "      <td>0.107519</td>\n",
              "    </tr>\n",
              "    <tr>\n",
              "      <th>energy</th>\n",
              "      <td>0.001365</td>\n",
              "      <td>0.092688</td>\n",
              "      <td>-0.662639</td>\n",
              "      <td>0.044373</td>\n",
              "      <td>1.000000</td>\n",
              "      <td>-0.205914</td>\n",
              "      <td>0.020416</td>\n",
              "      <td>0.167143</td>\n",
              "      <td>0.755516</td>\n",
              "      <td>-0.051605</td>\n",
              "      <td>0.062053</td>\n",
              "      <td>0.162448</td>\n",
              "      <td>0.146265</td>\n",
              "      <td>0.316742</td>\n",
              "      <td>0.040548</td>\n",
              "    </tr>\n",
              "    <tr>\n",
              "      <th>instrumentalness</th>\n",
              "      <td>-0.130907</td>\n",
              "      <td>-0.015188</td>\n",
              "      <td>0.173098</td>\n",
              "      <td>-0.130483</td>\n",
              "      <td>-0.205914</td>\n",
              "      <td>1.000000</td>\n",
              "      <td>-0.009463</td>\n",
              "      <td>-0.032887</td>\n",
              "      <td>-0.390248</td>\n",
              "      <td>-0.014983</td>\n",
              "      <td>-0.081138</td>\n",
              "      <td>-0.036934</td>\n",
              "      <td>-0.069181</td>\n",
              "      <td>-0.178570</td>\n",
              "      <td>-0.160144</td>\n",
              "    </tr>\n",
              "    <tr>\n",
              "      <th>key</th>\n",
              "      <td>-0.013160</td>\n",
              "      <td>-0.004615</td>\n",
              "      <td>-0.002025</td>\n",
              "      <td>0.007723</td>\n",
              "      <td>0.020416</td>\n",
              "      <td>-0.009463</td>\n",
              "      <td>1.000000</td>\n",
              "      <td>-0.008193</td>\n",
              "      <td>0.010452</td>\n",
              "      <td>-0.169848</td>\n",
              "      <td>0.033639</td>\n",
              "      <td>0.003239</td>\n",
              "      <td>-0.008282</td>\n",
              "      <td>0.025356</td>\n",
              "      <td>-0.030251</td>\n",
              "    </tr>\n",
              "    <tr>\n",
              "      <th>liveness</th>\n",
              "      <td>-0.038937</td>\n",
              "      <td>0.016086</td>\n",
              "      <td>-0.082537</td>\n",
              "      <td>-0.090694</td>\n",
              "      <td>0.167143</td>\n",
              "      <td>-0.032887</td>\n",
              "      <td>-0.008193</td>\n",
              "      <td>1.000000</td>\n",
              "      <td>0.102450</td>\n",
              "      <td>-0.001035</td>\n",
              "      <td>0.090845</td>\n",
              "      <td>0.031876</td>\n",
              "      <td>0.013289</td>\n",
              "      <td>0.013789</td>\n",
              "      <td>-0.023265</td>\n",
              "    </tr>\n",
              "    <tr>\n",
              "      <th>loudness</th>\n",
              "      <td>0.099442</td>\n",
              "      <td>0.016469</td>\n",
              "      <td>-0.557744</td>\n",
              "      <td>0.177639</td>\n",
              "      <td>0.755516</td>\n",
              "      <td>-0.390248</td>\n",
              "      <td>0.010452</td>\n",
              "      <td>0.102450</td>\n",
              "      <td>1.000000</td>\n",
              "      <td>-0.058506</td>\n",
              "      <td>0.078164</td>\n",
              "      <td>0.129938</td>\n",
              "      <td>0.119241</td>\n",
              "      <td>0.199696</td>\n",
              "      <td>0.137111</td>\n",
              "    </tr>\n",
              "    <tr>\n",
              "      <th>audio_mode</th>\n",
              "      <td>-0.004969</td>\n",
              "      <td>-0.026328</td>\n",
              "      <td>0.064100</td>\n",
              "      <td>-0.106539</td>\n",
              "      <td>-0.051605</td>\n",
              "      <td>-0.014983</td>\n",
              "      <td>-0.169848</td>\n",
              "      <td>-0.001035</td>\n",
              "      <td>-0.058506</td>\n",
              "      <td>1.000000</td>\n",
              "      <td>-0.111627</td>\n",
              "      <td>0.020448</td>\n",
              "      <td>-0.024042</td>\n",
              "      <td>-0.004558</td>\n",
              "      <td>-0.012290</td>\n",
              "    </tr>\n",
              "    <tr>\n",
              "      <th>speechiness</th>\n",
              "      <td>0.021479</td>\n",
              "      <td>-0.083447</td>\n",
              "      <td>-0.093574</td>\n",
              "      <td>0.213728</td>\n",
              "      <td>0.062053</td>\n",
              "      <td>-0.081138</td>\n",
              "      <td>0.033639</td>\n",
              "      <td>0.090845</td>\n",
              "      <td>0.078164</td>\n",
              "      <td>-0.111627</td>\n",
              "      <td>1.000000</td>\n",
              "      <td>0.071685</td>\n",
              "      <td>0.057162</td>\n",
              "      <td>0.011046</td>\n",
              "      <td>0.025356</td>\n",
              "    </tr>\n",
              "    <tr>\n",
              "      <th>tempo</th>\n",
              "      <td>-0.022672</td>\n",
              "      <td>0.012791</td>\n",
              "      <td>-0.136421</td>\n",
              "      <td>-0.121286</td>\n",
              "      <td>0.162448</td>\n",
              "      <td>-0.036934</td>\n",
              "      <td>0.003239</td>\n",
              "      <td>0.031876</td>\n",
              "      <td>0.129938</td>\n",
              "      <td>0.020448</td>\n",
              "      <td>0.071685</td>\n",
              "      <td>1.000000</td>\n",
              "      <td>0.003978</td>\n",
              "      <td>0.037667</td>\n",
              "      <td>-0.007094</td>\n",
              "    </tr>\n",
              "    <tr>\n",
              "      <th>time_signature</th>\n",
              "      <td>0.034983</td>\n",
              "      <td>0.000264</td>\n",
              "      <td>-0.157177</td>\n",
              "      <td>0.136391</td>\n",
              "      <td>0.146265</td>\n",
              "      <td>-0.069181</td>\n",
              "      <td>-0.008282</td>\n",
              "      <td>0.013289</td>\n",
              "      <td>0.119241</td>\n",
              "      <td>-0.024042</td>\n",
              "      <td>0.057162</td>\n",
              "      <td>0.003978</td>\n",
              "      <td>1.000000</td>\n",
              "      <td>0.094670</td>\n",
              "      <td>0.032462</td>\n",
              "    </tr>\n",
              "    <tr>\n",
              "      <th>audio_valence</th>\n",
              "      <td>-0.052895</td>\n",
              "      <td>-0.063421</td>\n",
              "      <td>-0.121670</td>\n",
              "      <td>0.332014</td>\n",
              "      <td>0.316742</td>\n",
              "      <td>-0.178570</td>\n",
              "      <td>0.025356</td>\n",
              "      <td>0.013789</td>\n",
              "      <td>0.199696</td>\n",
              "      <td>-0.004558</td>\n",
              "      <td>0.011046</td>\n",
              "      <td>0.037667</td>\n",
              "      <td>0.094670</td>\n",
              "      <td>1.000000</td>\n",
              "      <td>-0.019643</td>\n",
              "    </tr>\n",
              "    <tr>\n",
              "      <th>popularity</th>\n",
              "      <td>0.699048</td>\n",
              "      <td>0.003494</td>\n",
              "      <td>-0.106483</td>\n",
              "      <td>0.107519</td>\n",
              "      <td>0.040548</td>\n",
              "      <td>-0.160144</td>\n",
              "      <td>-0.030251</td>\n",
              "      <td>-0.023265</td>\n",
              "      <td>0.137111</td>\n",
              "      <td>-0.012290</td>\n",
              "      <td>0.025356</td>\n",
              "      <td>-0.007094</td>\n",
              "      <td>0.032462</td>\n",
              "      <td>-0.019643</td>\n",
              "      <td>1.000000</td>\n",
              "    </tr>\n",
              "  </tbody>\n",
              "</table>\n",
              "</div>"
            ],
            "text/plain": [
              "                  song_popularity  song_duration_ms  ...  audio_valence  popularity\n",
              "song_popularity          1.000000         -0.018899  ...      -0.052895    0.699048\n",
              "song_duration_ms        -0.018899          1.000000  ...      -0.063421    0.003494\n",
              "acousticness            -0.065181         -0.097882  ...      -0.121670   -0.106483\n",
              "danceability             0.104290         -0.104985  ...       0.332014    0.107519\n",
              "energy                   0.001365          0.092688  ...       0.316742    0.040548\n",
              "instrumentalness        -0.130907         -0.015188  ...      -0.178570   -0.160144\n",
              "key                     -0.013160         -0.004615  ...       0.025356   -0.030251\n",
              "liveness                -0.038937          0.016086  ...       0.013789   -0.023265\n",
              "loudness                 0.099442          0.016469  ...       0.199696    0.137111\n",
              "audio_mode              -0.004969         -0.026328  ...      -0.004558   -0.012290\n",
              "speechiness              0.021479         -0.083447  ...       0.011046    0.025356\n",
              "tempo                   -0.022672          0.012791  ...       0.037667   -0.007094\n",
              "time_signature           0.034983          0.000264  ...       0.094670    0.032462\n",
              "audio_valence           -0.052895         -0.063421  ...       1.000000   -0.019643\n",
              "popularity               0.699048          0.003494  ...      -0.019643    1.000000\n",
              "\n",
              "[15 rows x 15 columns]"
            ]
          },
          "metadata": {
            "tags": []
          },
          "execution_count": 16
        }
      ]
    },
    {
      "cell_type": "code",
      "metadata": {
        "colab": {
          "base_uri": "https://localhost:8080/",
          "height": 781
        },
        "id": "5jwRZmyaziuV",
        "outputId": "a5ecbd5a-f9f3-44ac-f156-13c9d3c10d0e"
      },
      "source": [
        "#This is a graphic that represent the last table.\n",
        "f,ax = plt.subplots(figsize=(12, 12))\n",
        "mask = np.zeros_like(data.corr())\n",
        "mask[np.triu_indices_from(mask)] = True\n",
        "sns.heatmap(data.corr(), annot=True, linewidths=0.4,linecolor=\"white\", fmt= '.1f',ax=ax,cmap=\"Blues\",mask=mask)\n",
        "plt.show() \n"
      ],
      "execution_count": 17,
      "outputs": [
        {
          "output_type": "display_data",
          "data": {
            "image/png": "[encoded data removed]",
            "text/plain": [
              "<Figure size 864x864 with 2 Axes>"
            ]
          },
          "metadata": {
            "tags": [],
            "needs_background": "light"
          }
        }
      ]
    },
    {
      "cell_type": "markdown",
      "metadata": {
        "id": "PeiSqJKFavBs"
      },
      "source": [
        "# **Outliers**\n",
        "These types of cases cannot be categorically characterized as beneficial or problematic but must\n",
        "be considered in the context of the analysis and the type of information they can provide should be evaluated"
      ]
    },
    {
      "cell_type": "code",
      "metadata": {
        "id": "ZGXYaOz5diUg"
      },
      "source": [
        ""
      ],
      "execution_count": 17,
      "outputs": []
    },
    {
      "cell_type": "code",
      "metadata": {
        "id": "6U3wICV71YlR"
      },
      "source": [
        "from collections import Counter\n",
        "def detect_outliers(df,features):\n",
        "    outlier_indices = []\n",
        "    \n",
        "    for c in features:\n",
        "        # 1st quartile\n",
        "        Q1 = np.percentile(df[c],25)\n",
        "        # 3rd quartile\n",
        "        Q3 = np.percentile(df[c],75)\n",
        "        # IQR\n",
        "        IQR = Q3 - Q1\n",
        "        # Outlier step\n",
        "        outlier_step = IQR * 1.5\n",
        "        # detect outlier and their indeces\n",
        "        outlier_list_col = df[(df[c] < Q1 - outlier_step) | (df[c] > Q3 + outlier_step)].index #filtre\n",
        "        # store indeces\n",
        "        outlier_indices.extend(outlier_list_col) #The extend() extends the list by adding all items of a list (passed as an argument) to the end.\n",
        "    \n",
        "    outlier_indices = Counter(outlier_indices)\n",
        "    multiple_outliers = list(i for i, v in outlier_indices.items() if v > 2) \n",
        "    \n",
        "    return multiple_outliers"
      ],
      "execution_count": 18,
      "outputs": []
    },
    {
      "cell_type": "code",
      "metadata": {
        "colab": {
          "base_uri": "https://localhost:8080/",
          "height": 657
        },
        "id": "AK39FSpsZje1",
        "outputId": "a1405ae1-dcac-4cd8-873c-df5d26b72035"
      },
      "source": [
        "data.loc[detect_outliers(data,[\"song_duration_ms\",\"danceability\",\"energy\",\"instrumentalness\",\"liveness\",\"loudness\",\"speechiness\",\"audio_valence\"])]"
      ],
      "execution_count": 19,
      "outputs": [
        {
          "output_type": "execute_result",
          "data": {
            "text/html": [
              "<div>\n",
              "<style scoped>\n",
              "    .dataframe tbody tr th:only-of-type {\n",
              "        vertical-align: middle;\n",
              "    }\n",
              "\n",
              "    .dataframe tbody tr th {\n",
              "        vertical-align: top;\n",
              "    }\n",
              "\n",
              "    .dataframe thead th {\n",
              "        text-align: right;\n",
              "    }\n",
              "</style>\n",
              "<table border=\"1\" class=\"dataframe\">\n",
              "  <thead>\n",
              "    <tr style=\"text-align: right;\">\n",
              "      <th></th>\n",
              "      <th>song_name</th>\n",
              "      <th>song_popularity</th>\n",
              "      <th>song_duration_ms</th>\n",
              "      <th>acousticness</th>\n",
              "      <th>danceability</th>\n",
              "      <th>energy</th>\n",
              "      <th>instrumentalness</th>\n",
              "      <th>key</th>\n",
              "      <th>liveness</th>\n",
              "      <th>loudness</th>\n",
              "      <th>audio_mode</th>\n",
              "      <th>speechiness</th>\n",
              "      <th>tempo</th>\n",
              "      <th>time_signature</th>\n",
              "      <th>audio_valence</th>\n",
              "      <th>popularity</th>\n",
              "    </tr>\n",
              "  </thead>\n",
              "  <tbody>\n",
              "    <tr>\n",
              "      <th>232</th>\n",
              "      <td>La Maza</td>\n",
              "      <td>58</td>\n",
              "      <td>351400.0</td>\n",
              "      <td>0.6520</td>\n",
              "      <td>0.555</td>\n",
              "      <td>0.331</td>\n",
              "      <td>0.000012</td>\n",
              "      <td>9</td>\n",
              "      <td>0.235</td>\n",
              "      <td>-17.718</td>\n",
              "      <td>0.0</td>\n",
              "      <td>0.2700</td>\n",
              "      <td>170.603</td>\n",
              "      <td>3.0</td>\n",
              "      <td>0.437</td>\n",
              "      <td>0</td>\n",
              "    </tr>\n",
              "    <tr>\n",
              "      <th>253</th>\n",
              "      <td>Whole Lotta Love</td>\n",
              "      <td>77</td>\n",
              "      <td>333893.0</td>\n",
              "      <td>0.0484</td>\n",
              "      <td>0.412</td>\n",
              "      <td>0.902</td>\n",
              "      <td>0.131000</td>\n",
              "      <td>9</td>\n",
              "      <td>0.405</td>\n",
              "      <td>-11.600</td>\n",
              "      <td>1.0</td>\n",
              "      <td>0.4050</td>\n",
              "      <td>89.740</td>\n",
              "      <td>4.0</td>\n",
              "      <td>0.422</td>\n",
              "      <td>1</td>\n",
              "    </tr>\n",
              "    <tr>\n",
              "      <th>501</th>\n",
              "      <td>Do You Feel Like We Do</td>\n",
              "      <td>48</td>\n",
              "      <td>836666.0</td>\n",
              "      <td>0.0439</td>\n",
              "      <td>0.295</td>\n",
              "      <td>0.568</td>\n",
              "      <td>0.011700</td>\n",
              "      <td>0</td>\n",
              "      <td>0.977</td>\n",
              "      <td>-8.232</td>\n",
              "      <td>1.0</td>\n",
              "      <td>0.0284</td>\n",
              "      <td>98.284</td>\n",
              "      <td>4.0</td>\n",
              "      <td>0.384</td>\n",
              "      <td>0</td>\n",
              "    </tr>\n",
              "    <tr>\n",
              "      <th>981</th>\n",
              "      <td>The Times They Are A-Changin' - Live at Sony M...</td>\n",
              "      <td>49</td>\n",
              "      <td>348560.0</td>\n",
              "      <td>0.6300</td>\n",
              "      <td>0.393</td>\n",
              "      <td>0.416</td>\n",
              "      <td>0.007910</td>\n",
              "      <td>9</td>\n",
              "      <td>0.986</td>\n",
              "      <td>-13.243</td>\n",
              "      <td>1.0</td>\n",
              "      <td>0.0401</td>\n",
              "      <td>163.604</td>\n",
              "      <td>3.0</td>\n",
              "      <td>0.512</td>\n",
              "      <td>0</td>\n",
              "    </tr>\n",
              "    <tr>\n",
              "      <th>1113</th>\n",
              "      <td>November Rain</td>\n",
              "      <td>38</td>\n",
              "      <td>537506.0</td>\n",
              "      <td>0.0165</td>\n",
              "      <td>0.197</td>\n",
              "      <td>0.629</td>\n",
              "      <td>0.279000</td>\n",
              "      <td>11</td>\n",
              "      <td>0.125</td>\n",
              "      <td>-9.291</td>\n",
              "      <td>1.0</td>\n",
              "      <td>0.0300</td>\n",
              "      <td>79.495</td>\n",
              "      <td>4.0</td>\n",
              "      <td>0.221</td>\n",
              "      <td>0</td>\n",
              "    </tr>\n",
              "    <tr>\n",
              "      <th>...</th>\n",
              "      <td>...</td>\n",
              "      <td>...</td>\n",
              "      <td>...</td>\n",
              "      <td>...</td>\n",
              "      <td>...</td>\n",
              "      <td>...</td>\n",
              "      <td>...</td>\n",
              "      <td>...</td>\n",
              "      <td>...</td>\n",
              "      <td>...</td>\n",
              "      <td>...</td>\n",
              "      <td>...</td>\n",
              "      <td>...</td>\n",
              "      <td>...</td>\n",
              "      <td>...</td>\n",
              "      <td>...</td>\n",
              "    </tr>\n",
              "    <tr>\n",
              "      <th>15247</th>\n",
              "      <td>I Know You So Well</td>\n",
              "      <td>8</td>\n",
              "      <td>102661.0</td>\n",
              "      <td>0.9230</td>\n",
              "      <td>0.679</td>\n",
              "      <td>0.311</td>\n",
              "      <td>0.721000</td>\n",
              "      <td>0</td>\n",
              "      <td>0.813</td>\n",
              "      <td>-16.557</td>\n",
              "      <td>0.0</td>\n",
              "      <td>0.1050</td>\n",
              "      <td>60.724</td>\n",
              "      <td>4.0</td>\n",
              "      <td>0.304</td>\n",
              "      <td>0</td>\n",
              "    </tr>\n",
              "    <tr>\n",
              "      <th>16642</th>\n",
              "      <td>same stars</td>\n",
              "      <td>46</td>\n",
              "      <td>116918.0</td>\n",
              "      <td>0.2510</td>\n",
              "      <td>0.687</td>\n",
              "      <td>0.284</td>\n",
              "      <td>0.862000</td>\n",
              "      <td>0</td>\n",
              "      <td>0.496</td>\n",
              "      <td>-19.504</td>\n",
              "      <td>1.0</td>\n",
              "      <td>0.0378</td>\n",
              "      <td>115.996</td>\n",
              "      <td>4.0</td>\n",
              "      <td>0.159</td>\n",
              "      <td>0</td>\n",
              "    </tr>\n",
              "    <tr>\n",
              "      <th>17723</th>\n",
              "      <td>Dutch Spring</td>\n",
              "      <td>0</td>\n",
              "      <td>205623.0</td>\n",
              "      <td>0.1960</td>\n",
              "      <td>0.510</td>\n",
              "      <td>0.843</td>\n",
              "      <td>0.135000</td>\n",
              "      <td>6</td>\n",
              "      <td>0.569</td>\n",
              "      <td>-4.958</td>\n",
              "      <td>0.0</td>\n",
              "      <td>0.3910</td>\n",
              "      <td>83.355</td>\n",
              "      <td>4.0</td>\n",
              "      <td>0.832</td>\n",
              "      <td>0</td>\n",
              "    </tr>\n",
              "    <tr>\n",
              "      <th>3720</th>\n",
              "      <td>Racism And Injustice</td>\n",
              "      <td>21</td>\n",
              "      <td>260160.0</td>\n",
              "      <td>0.9220</td>\n",
              "      <td>0.650</td>\n",
              "      <td>0.316</td>\n",
              "      <td>0.000000</td>\n",
              "      <td>9</td>\n",
              "      <td>0.739</td>\n",
              "      <td>-18.244</td>\n",
              "      <td>0.0</td>\n",
              "      <td>0.9400</td>\n",
              "      <td>117.198</td>\n",
              "      <td>4.0</td>\n",
              "      <td>0.306</td>\n",
              "      <td>0</td>\n",
              "    </tr>\n",
              "    <tr>\n",
              "      <th>3752</th>\n",
              "      <td>Space Program</td>\n",
              "      <td>0</td>\n",
              "      <td>156480.0</td>\n",
              "      <td>0.8690</td>\n",
              "      <td>0.589</td>\n",
              "      <td>0.604</td>\n",
              "      <td>0.000002</td>\n",
              "      <td>4</td>\n",
              "      <td>0.684</td>\n",
              "      <td>-18.562</td>\n",
              "      <td>0.0</td>\n",
              "      <td>0.9410</td>\n",
              "      <td>111.968</td>\n",
              "      <td>4.0</td>\n",
              "      <td>0.197</td>\n",
              "      <td>0</td>\n",
              "    </tr>\n",
              "  </tbody>\n",
              "</table>\n",
              "<p>325 rows × 16 columns</p>\n",
              "</div>"
            ],
            "text/plain": [
              "                                               song_name  ...  popularity\n",
              "232                                              La Maza  ...           0\n",
              "253                                     Whole Lotta Love  ...           1\n",
              "501                               Do You Feel Like We Do  ...           0\n",
              "981    The Times They Are A-Changin' - Live at Sony M...  ...           0\n",
              "1113                                       November Rain  ...           0\n",
              "...                                                  ...  ...         ...\n",
              "15247                                 I Know You So Well  ...           0\n",
              "16642                                         same stars  ...           0\n",
              "17723                                       Dutch Spring  ...           0\n",
              "3720                                Racism And Injustice  ...           0\n",
              "3752                                       Space Program  ...           0\n",
              "\n",
              "[325 rows x 16 columns]"
            ]
          },
          "metadata": {
            "tags": []
          },
          "execution_count": 19
        }
      ]
    },
    {
      "cell_type": "code",
      "metadata": {
        "id": "1onMOousaXD0"
      },
      "source": [
        "song_data = data.drop(detect_outliers(data,[\"song_duration_ms\",\"danceability\",\"energy\",\"instrumentalness\",\"liveness\",\"loudness\",\"speechiness\",\"audio_valence\"]),axis = 0).reset_index(drop = True)"
      ],
      "execution_count": 20,
      "outputs": []
    },
    {
      "cell_type": "code",
      "metadata": {
        "colab": {
          "base_uri": "https://localhost:8080/",
          "height": 542
        },
        "id": "T7_yw9Ugakf1",
        "outputId": "87c3489d-0440-4b72-8a8e-4dfe890d05e4"
      },
      "source": [
        "g = sns.factorplot(x = \"key\", y = \"popularity\", data = data, kind = \"bar\", size = 6)\n",
        "g.set_ylabels(\"Popularity Probability\")\n",
        "plt.show()"
      ],
      "execution_count": 21,
      "outputs": [
        {
          "output_type": "stream",
          "text": [
            "/usr/local/lib/python3.6/dist-packages/seaborn/categorical.py:3704: UserWarning: The `factorplot` function has been renamed to `catplot`. The original name will be removed in a future release. Please update your code. Note that the default `kind` in `factorplot` (`'point'`) has changed `'strip'` in `catplot`.\n",
            "  warnings.warn(msg)\n",
            "/usr/local/lib/python3.6/dist-packages/seaborn/categorical.py:3710: UserWarning: The `size` parameter has been renamed to `height`; please update your code.\n",
            "  warnings.warn(msg, UserWarning)\n"
          ],
          "name": "stderr"
        },
        {
          "output_type": "display_data",
          "data": {
            "image/png": "[encoded data removed]",
            "text/plain": [
              "<Figure size 432x432 with 1 Axes>"
            ]
          },
          "metadata": {
            "tags": [],
            "needs_background": "light"
          }
        }
      ]
    },
    {
      "cell_type": "markdown",
      "metadata": {
        "id": "42SnCC_ROldX"
      },
      "source": [
        "# **Machine Learning**\n",
        "The second part of this notebook is the Machine Learning. in thid part we are going to make a prediction using some algorithms. "
      ]
    },
    {
      "cell_type": "code",
      "metadata": {
        "id": "E_QQ9QFOOklX"
      },
      "source": [
        "data.drop([\"song_popularity\",\"song_name\"],axis=1,inplace=True)"
      ],
      "execution_count": 22,
      "outputs": []
    },
    {
      "cell_type": "code",
      "metadata": {
        "colab": {
          "base_uri": "https://localhost:8080/"
        },
        "id": "zq5zoaStSToO",
        "outputId": "2391fe02-34ab-4a10-e0e8-9f3084546529"
      },
      "source": [
        "data.columns[data.isnull().any()]"
      ],
      "execution_count": 23,
      "outputs": [
        {
          "output_type": "execute_result",
          "data": {
            "text/plain": [
              "Index([], dtype='object')"
            ]
          },
          "metadata": {
            "tags": []
          },
          "execution_count": 23
        }
      ]
    },
    {
      "cell_type": "code",
      "metadata": {
        "id": "rsi4RXo6SX8t"
      },
      "source": [
        "data['song_duration_ms'] = data['song_duration_ms'].fillna(np.mean(data['song_duration_ms']))\n",
        "data['acousticness'] = data['acousticness'].fillna(np.mean(data['acousticness']))\n",
        "data['danceability'] = data['danceability'].fillna(np.mean(data['danceability']))\n",
        "data['energy'] = data['energy'].fillna(np.mean(data['energy']))\n",
        "data['instrumentalness'] = data['instrumentalness'].fillna(np.mean(data['instrumentalness']))\n",
        "data['liveness'] = data['liveness'].fillna(np.mean(data['liveness']))\n",
        "data['loudness'] = data['loudness'].fillna(np.mean(data['loudness']))\n",
        "data['speechiness'] = data['speechiness'].fillna(np.mean(data['speechiness']))\n",
        "data['tempo'] = data['tempo'].fillna(np.mean(data['tempo']))\n",
        "data['audio_valence'] = data['audio_valence'].fillna(np.mean(data['audio_valence']))\n",
        "data['popularity'] = data['popularity'].fillna(np.mean(data['popularity']))"
      ],
      "execution_count": 24,
      "outputs": []
    },
    {
      "cell_type": "code",
      "metadata": {
        "colab": {
          "base_uri": "https://localhost:8080/"
        },
        "id": "Vdrt05SWTDfQ",
        "outputId": "6003d239-4950-47ef-d0f6-81a27fa339a8"
      },
      "source": [
        "data.columns[data.isnull().any()]"
      ],
      "execution_count": 25,
      "outputs": [
        {
          "output_type": "execute_result",
          "data": {
            "text/plain": [
              "Index([], dtype='object')"
            ]
          },
          "metadata": {
            "tags": []
          },
          "execution_count": 25
        }
      ]
    },
    {
      "cell_type": "code",
      "metadata": {
        "id": "RnqIPIWYVnVu"
      },
      "source": [
        "def change_type(var):\n",
        "    data[var] = data[var].astype(int)"
      ],
      "execution_count": 26,
      "outputs": []
    },
    {
      "cell_type": "code",
      "metadata": {
        "colab": {
          "base_uri": "https://localhost:8080/"
        },
        "id": "z9JE3XjRVrB9",
        "outputId": "bedc738a-9fd0-4a99-d8a1-61c1f8dba8c8"
      },
      "source": [
        "#data preparation\n",
        "y = data[\"popularity\"].values\n",
        "x_data=data.drop([\"popularity\"],axis=1)\n",
        "#normalization\n",
        "x = (x_data - np.min(x_data))/(np.max(x_data)-np.min(x_data)).values#train test split\n",
        "from sklearn.model_selection import train_test_split\n",
        "x_train, x_test, y_train, y_test = train_test_split(x,y,test_size = 0.2,random_state=42)\n",
        "x_train = x_train.T\n",
        "x_test = x_test.T\n",
        "y_train = y_train.astype(int).T\n",
        "y_test = y_test.astype(int).T\n",
        "print(\"x_train: \",x_train.shape)\n",
        "print(\"x_test: \",x_test.shape)\n",
        "print(\"y_train: \",y_train.shape)\n",
        "print(\"y_test: \",y_test.shape)"
      ],
      "execution_count": 27,
      "outputs": [
        {
          "output_type": "stream",
          "text": [
            "x_train:  (13, 15068)\n",
            "x_test:  (13, 3767)\n",
            "y_train:  (15068,)\n",
            "y_test:  (3767,)\n"
          ],
          "name": "stdout"
        }
      ]
    },
    {
      "cell_type": "code",
      "metadata": {
        "id": "wtWAjlsAVt6k"
      },
      "source": [
        ""
      ],
      "execution_count": 27,
      "outputs": []
    },
    {
      "cell_type": "markdown",
      "metadata": {
        "id": "_xyyevIbV-T9"
      },
      "source": [
        "## **Logistic Regression**\n",
        "Is a regression method that allows estimating the probability of a binary qualitative variable based on a quantitative variable.\n",
        "LR is one of the basic classiﬁcation method is used prediction of categorical variables.Our problem has two possible outputs popular(1) and unpopular(0) which is suitable for binary logistic regression. Since it is a probability value that we want to get from the problem, we obtained a value between [0,1] using the sigmoid function."
      ]
    },
    {
      "cell_type": "code",
      "metadata": {
        "id": "xvnpNWxLWPyg"
      },
      "source": [
        "# Parameter initialize and sigmoid function\n",
        "def initialize_weights_and_bias(dimension):\n",
        "    w=np.full((dimension,1),0.01)\n",
        "    b=0.0\n",
        "    return w,b\n",
        "\n",
        "def sigmoid(z):\n",
        "    y_head = 1/(1+ np.exp(-z))\n",
        "    return y_head"
      ],
      "execution_count": 28,
      "outputs": []
    },
    {
      "cell_type": "code",
      "metadata": {
        "id": "uHfb-dawWTGM"
      },
      "source": [
        "def forward_backward_propagation(w,b,x_train,y_train):\n",
        "    # Forward propagation\n",
        "    z = np.dot(w.T,x_train) + b\n",
        "    y_head = sigmoid(z)\n",
        "    loss = -y_train*np.log(y_head)-(1-y_train)*np.log(1-y_head)\n",
        "    cost = (np.sum(loss))/x_train.shape[1]      \n",
        "    # Backward propagation\n",
        "    derivative_weight = (np.dot(x_train,((y_head-y_train).T)))/x_train.shape[1] \n",
        "    derivative_bias = np.sum(y_head-y_train)/x_train.shape[1]                 \n",
        "    gradients = {\"derivative_weight\": derivative_weight,\"derivative_bias\": derivative_bias}\n",
        "    return cost,gradients"
      ],
      "execution_count": 29,
      "outputs": []
    },
    {
      "cell_type": "code",
      "metadata": {
        "id": "Tv_OVurnWW1A"
      },
      "source": [
        "# Updating parameters\n",
        "def update(w, b, x_train, y_train, learning_rate,number_of_iterarion):\n",
        "    cost_list = []\n",
        "    cost_list2 = []\n",
        "    index = []\n",
        "\n",
        "    for i in range(number_of_iterarion):\n",
        "        # Make forward and backward propagation and find cost and gradients\n",
        "        cost,gradients = forward_backward_propagation(w,b,x_train,y_train)\n",
        "        cost_list.append(cost)\n",
        "        # Update\n",
        "        w = w - learning_rate * gradients[\"derivative_weight\"]\n",
        "        b = b - learning_rate * gradients[\"derivative_bias\"]\n",
        "        if i % 10 == 0:\n",
        "            cost_list2.append(cost)\n",
        "            index.append(i)\n",
        "            print (\"Cost after iteration %i: %f\" %(i, cost))\n",
        "    \n",
        "    parameters = {\"weight\": w,\"bias\": b}\n",
        "    plt.plot(index,cost_list2)\n",
        "    plt.xticks(index,rotation='vertical')\n",
        "    plt.xlabel(\"Number of Iterarion\")\n",
        "    plt.ylabel(\"Cost\")\n",
        "    plt.show()\n",
        "    return parameters, gradients, cost_list"
      ],
      "execution_count": 30,
      "outputs": []
    },
    {
      "cell_type": "code",
      "metadata": {
        "id": "MDa5mVtGWcIB"
      },
      "source": [
        "def predict(w,b,x_test):\n",
        "    z = sigmoid(np.dot(w.T,x_test)+b)\n",
        "    Y_prediction = np.zeros((1,x_test.shape[1]))\n",
        "\n",
        "    for i in range(z.shape[1]):\n",
        "        if z[0,i]<= 0.5:\n",
        "            Y_prediction[0,i] = 0\n",
        "        else:\n",
        "            Y_prediction[0,i] = 1\n",
        "\n",
        "    return Y_prediction"
      ],
      "execution_count": 31,
      "outputs": []
    },
    {
      "cell_type": "code",
      "metadata": {
        "colab": {
          "base_uri": "https://localhost:8080/",
          "height": 658
        },
        "id": "ccu9d7CQWfKD",
        "outputId": "737dde26-819c-4b70-eddb-3849e5a293fe"
      },
      "source": [
        "def logistic_regression(x_train, y_train, x_test, y_test, learning_rate ,  num_iterations):\n",
        "    # Initialize\n",
        "    dimension =  x_train.shape[0]\n",
        "    w,b = initialize_weights_and_bias(dimension)\n",
        "    # Update\n",
        "    parameters, gradients, cost_list = update(w, b, x_train, y_train, learning_rate,num_iterations)\n",
        "    y_prediction_test = predict(parameters[\"weight\"],parameters[\"bias\"],x_test)\n",
        "    y_prediction_train = predict(parameters[\"weight\"],parameters[\"bias\"],x_train)\n",
        "\n",
        "    print(\"train accuracy: {} %\".format(100 - np.mean(np.abs(y_prediction_train - y_train)) * 100))\n",
        "    print(\"test accuracy: {} %\".format(100 - np.mean(np.abs(y_prediction_test - y_test)) * 100))\n",
        "    \n",
        "logistic_regression(x_train, y_train, x_test, y_test,learning_rate =0.01, num_iterations = 200)"
      ],
      "execution_count": 32,
      "outputs": [
        {
          "output_type": "stream",
          "text": [
            "Cost after iteration 0: 0.705779\n",
            "Cost after iteration 10: 0.686177\n",
            "Cost after iteration 20: 0.670443\n",
            "Cost after iteration 30: 0.657805\n",
            "Cost after iteration 40: 0.647636\n",
            "Cost after iteration 50: 0.639440\n",
            "Cost after iteration 60: 0.632818\n",
            "Cost after iteration 70: 0.627455\n",
            "Cost after iteration 80: 0.623100\n",
            "Cost after iteration 90: 0.619555\n",
            "Cost after iteration 100: 0.616662\n",
            "Cost after iteration 110: 0.614293\n",
            "Cost after iteration 120: 0.612349\n",
            "Cost after iteration 130: 0.610748\n",
            "Cost after iteration 140: 0.609427\n",
            "Cost after iteration 150: 0.608333\n",
            "Cost after iteration 160: 0.607424\n",
            "Cost after iteration 170: 0.606666\n",
            "Cost after iteration 180: 0.606031\n",
            "Cost after iteration 190: 0.605498\n"
          ],
          "name": "stdout"
        },
        {
          "output_type": "display_data",
          "data": {
            "image/png": "[encoded data removed]",
            "text/plain": [
              "<Figure size 432x288 with 1 Axes>"
            ]
          },
          "metadata": {
            "tags": [],
            "needs_background": "light"
          }
        },
        {
          "output_type": "stream",
          "text": [
            "train accuracy: 70.90522962569685 %\n",
            "test accuracy: 71.72816564905762 %\n"
          ],
          "name": "stdout"
        }
      ]
    },
    {
      "cell_type": "markdown",
      "metadata": {
        "id": "05wmDiIVyXUw"
      },
      "source": [
        "## **Logistic Regression Results**\n",
        "\n",
        "The reason Logistic Regression was used was because the dataset did not contain data that could be used in a linear one, we were just never going to reach a conclusion because quantitative and qualitative data are being used. That is why, when using the Logistic Regression, it was possible to adapt a quali variable with a quanti variable, thus achieving a prediction with the best result of 200 interactions, achieving a moderate result."
      ]
    },
    {
      "cell_type": "code",
      "metadata": {
        "id": "xcHnsS3_eOor"
      },
      "source": [
        ""
      ],
      "execution_count": 32,
      "outputs": []
    },
    {
      "cell_type": "markdown",
      "metadata": {
        "id": "onssLYS30GU1"
      },
      "source": [
        "# **Conclusion**\n",
        "With this model it can be concluded that a prediction can be made about if a song will be a hit or not when it is released, using the components that make it up. There was a not so great but positive result. The big industries have been in charge of turning artists into composition machines, making them record song after song in a very short time, which has caused music to become a very disposable product. With this model, it will be possible to predict whether a song will achieve the highest positions or if it will be played millions of times on these streaming platforms such as Spotify.\n",
        "\n",
        "\n",
        "\n"
      ]
    },
    {
      "cell_type": "code",
      "metadata": {
        "id": "VXIKbdNI1pz2"
      },
      "source": [
        ""
      ],
      "execution_count": null,
      "outputs": []
    }
  ]
}